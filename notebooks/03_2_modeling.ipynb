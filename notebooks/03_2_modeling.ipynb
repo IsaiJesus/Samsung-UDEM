{
 "cells": [
  {
   "cell_type": "markdown",
   "id": "a85b323a",
   "metadata": {},
   "source": [
    "# Classification"
   ]
  },
  {
   "cell_type": "markdown",
   "id": "aa2120ff",
   "metadata": {},
   "source": [
    "Para el caso de la clasificación, la variable a predecir será `CAUSAACCI`, a partir de otras variables que se enuentran mayormente correlacionadas entre sí, además de otras que se eligieron a criterio.\n",
    "La forma para la elección del modelo será por medio de **validación cruzada** tomando modelos de clasificación como **Árboles de Decisión, KNN, SVM, Random Forest, AdaBoost, LightGBM y CatBoost**.\n",
    "\n",
    "- CAUSAACCI (Causa probable o presunta del accidente)\n",
    "    - 1: Conductor \n",
    "    - 2: Peatón o pasajero\n",
    "    - 3: Falla de vehículo\n",
    "    - 4: Mala condición del camino\n",
    "    - 5: Otra"
   ]
  },
  {
   "cell_type": "code",
   "execution_count": null,
   "id": "8b73c851",
   "metadata": {},
   "outputs": [],
   "source": []
  }
 ],
 "metadata": {
  "kernelspec": {
   "display_name": "Python 3 (ipykernel)",
   "language": "python",
   "name": "python3"
  },
  "language_info": {
   "codemirror_mode": {
    "name": "ipython",
    "version": 3
   },
   "file_extension": ".py",
   "mimetype": "text/x-python",
   "name": "python",
   "nbconvert_exporter": "python",
   "pygments_lexer": "ipython3",
   "version": "3.11.7"
  }
 },
 "nbformat": 4,
 "nbformat_minor": 5
}
