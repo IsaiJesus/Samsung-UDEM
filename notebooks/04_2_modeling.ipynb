{
 "cells": [
  {
   "cell_type": "markdown",
   "id": "a85b323a",
   "metadata": {},
   "source": [
    "# Classification"
   ]
  },
  {
   "cell_type": "markdown",
   "id": "e66c9085",
   "metadata": {},
   "source": [
    "Para el caso de la clasificación, la variable a predecir será `CAUSAACCI` y `TIPACCID`, a partir de otras variables que se enuentran mayormente correlacionadas entre sí, además de otras que se eligieron a criterio.\n",
    "La forma para la elección del modelo será por medio de **validación cruzada** tomando modelos de clasificación como **Árboles de Decisión, KNN, SVM, Random Forest, AdaBoost, LightGBM y CatBoost**.\n",
    "\n",
    "- CAUSAACCI (Causa probable o presunta del accidente)\n",
    "    - 1: Conductor \n",
    "    - 2: Peatón o pasajero\n",
    "    - 3: Falla de vehículo\n",
    "    - 4: Mala condición del camino\n",
    "    - 5: Otra\n",
    "- TIPACCID (Tipo de accidente):\n",
    "     - 0: Certificado 0\n",
    "     - 1: Colisión con vehículo automotor\n",
    "     - 2: Colisión con peatón (atropellamiento)\n",
    "     - 3: Colisión con animal\n",
    "     - 4: Colisión con objeto fijo\n",
    "     - 5: Volcadura\n",
    "     - 6: Caída de pasajero\n",
    "     - 7: Salida del camino\n",
    "     - 8: Incendio\n",
    "     - 9: Colisión con ferrocarril\n",
    "     - 10: Colisión con motocicleta\n",
    "     - 11: Colisión con ciclista\n",
    "     - 12: Otro"
   ]
  },
  {
   "cell_type": "code",
   "execution_count": 1,
   "id": "3b987b89",
   "metadata": {},
   "outputs": [],
   "source": [
    "import pandas as pd\n",
    "import matplotlib.pyplot as plt\n",
    "from sklearn.model_selection import train_test_split, GridSearchCV"
   ]
  },
  {
   "cell_type": "code",
   "execution_count": 2,
   "id": "659e2461",
   "metadata": {},
   "outputs": [],
   "source": [
    "df = pd.read_csv('../data/processed/processed_nacional.csv')"
   ]
  },
  {
   "cell_type": "markdown",
   "id": "35cc768a",
   "metadata": {},
   "source": [
    "Para el caso de la clasificación, no son necesarias las columnas de heridos y muertos más que las de los totales (`TOTMUERTOS`, `TOTHERIDOS`), ya que la variable `CAUSAACCI` no tiene correlación con las mismas y en caso de, es suficiente con las columnas de totales."
   ]
  },
  {
   "cell_type": "code",
   "execution_count": 3,
   "id": "1c121b0c",
   "metadata": {},
   "outputs": [
    {
     "data": {
      "text/plain": [
       "(180219, 38)"
      ]
     },
     "execution_count": 3,
     "metadata": {},
     "output_type": "execute_result"
    }
   ],
   "source": [
    "df.shape"
   ]
  },
  {
   "cell_type": "code",
   "execution_count": 4,
   "id": "164b7acb",
   "metadata": {},
   "outputs": [
    {
     "data": {
      "text/plain": [
       "Index(['EDO', 'MES', 'ANIO', 'MPIO', 'HORA', 'MINUTOS', 'DIA', 'DIASEMANA',\n",
       "       'ZONA', 'TIPACCID', 'AUTOMOVIL', 'CAMPASAJ', 'MOTOCICLET', 'BICICLETA',\n",
       "       'OTROVEHIC', 'CAUSAACCI', 'CAPAROD', 'SEXO', 'EDAD', 'CONDMUERTO',\n",
       "       'CONDHERIDO', 'PASAMUERTO', 'PASAHERIDO', 'PEATMUERTO', 'PEATHERIDO',\n",
       "       'CICLMUERTO', 'CICLHERIDO', 'OTROMUERTO', 'OTROHERIDO', 'TOTMUERTOS',\n",
       "       'TOTHERIDOS', 'CLASE', 'CALLE1', 'LONGITUD', 'LATITUD', 'TRANPUBLICO',\n",
       "       'VEHICARGA', 'ALIENTOCINT'],\n",
       "      dtype='object')"
      ]
     },
     "execution_count": 4,
     "metadata": {},
     "output_type": "execute_result"
    }
   ],
   "source": [
    "df.columns"
   ]
  },
  {
   "cell_type": "code",
   "execution_count": 5,
   "id": "e6ea2d1b",
   "metadata": {},
   "outputs": [
    {
     "name": "stdout",
     "output_type": "stream",
     "text": [
      "(180219,) (180219, 22)\n"
     ]
    }
   ],
   "source": [
    "y = df['CAUSAACCI']\n",
    "\n",
    "X = df[[\n",
    "    'EDO', 'MES', 'HORA', 'MINUTOS', 'DIA', 'DIASEMANA', 'ZONA', \n",
    "    'AUTOMOVIL', 'CAMPASAJ', 'MOTOCICLET', 'BICICLETA', 'TRANPUBLICO',\n",
    "    'VEHICARGA', 'OTROVEHIC', 'SEXO', 'EDAD', 'CAPAROD', 'ALIENTOCINT',\n",
    "    'TOTMUERTOS', 'TOTHERIDOS', 'CLASE', 'TIPACCID'\n",
    "]]\n",
    "\n",
    "print(y.shape, X.shape)"
   ]
  },
  {
   "cell_type": "code",
   "execution_count": null,
   "id": "9c3a0367",
   "metadata": {},
   "outputs": [],
   "source": []
  }
 ],
 "metadata": {
  "kernelspec": {
   "display_name": "Python 3 (ipykernel)",
   "language": "python",
   "name": "python3"
  },
  "language_info": {
   "codemirror_mode": {
    "name": "ipython",
    "version": 3
   },
   "file_extension": ".py",
   "mimetype": "text/x-python",
   "name": "python",
   "nbconvert_exporter": "python",
   "pygments_lexer": "ipython3",
   "version": "3.11.7"
  }
 },
 "nbformat": 4,
 "nbformat_minor": 5
}
