{
 "cells": [
  {
   "cell_type": "markdown",
   "id": "a85b323a",
   "metadata": {},
   "source": [
    "# Classification"
   ]
  },
  {
   "cell_type": "markdown",
   "id": "e66c9085",
   "metadata": {},
   "source": [
    "Para el caso de la clasificación, la variable a predecir será `CAUSAACCI` y `TIPACCID`, a partir de otras variables que se enuentran mayormente correlacionadas entre sí, además de otras que se eligieron a criterio.\n",
    "La forma para la elección del modelo será por medio de **validación cruzada** tomando modelos de clasificación como **Árboles de Decisión, KNN, SVM, Random Forest, AdaBoost, LightGBM y CatBoost**.\n",
    "\n",
    "- CAUSAACCI (Causa probable o presunta del accidente)\n",
    "    - 1: Conductor \n",
    "    - 2: Peatón o pasajero\n",
    "    - 3: Falla de vehículo\n",
    "    - 4: Mala condición del camino\n",
    "    - 5: Otra\n",
    "- TIPACCID (Tipo de accidente):\n",
    "     - 0: Certificado 0\n",
    "     - 1: Colisión con vehículo automotor\n",
    "     - 2: Colisión con peatón (atropellamiento)\n",
    "     - 3: Colisión con animal\n",
    "     - 4: Colisión con objeto fijo\n",
    "     - 5: Volcadura\n",
    "     - 6: Caída de pasajero\n",
    "     - 7: Salida del camino\n",
    "     - 8: Incendio\n",
    "     - 9: Colisión con ferrocarril\n",
    "     - 10: Colisión con motocicleta\n",
    "     - 11: Colisión con ciclista\n",
    "     - 12: Otro"
   ]
  },
  {
   "cell_type": "code",
   "execution_count": 4,
   "id": "3b987b89",
   "metadata": {},
   "outputs": [],
   "source": [
    "import pandas as pd\n",
    "import matplotlib.pyplot as plt\n",
    "from sklearn.model_selection import train_test_split, GridSearchCV"
   ]
  },
  {
   "cell_type": "code",
   "execution_count": 2,
   "id": "659e2461",
   "metadata": {},
   "outputs": [],
   "source": [
    "df = pd.read_csv('../data/processed/nacional.csv')"
   ]
  },
  {
   "cell_type": "markdown",
   "id": "941fb8aa",
   "metadata": {},
   "source": [
    "Para el caso de la clasificación, no son necesarias las columnas de heridos y muertos más que las de los totales (`TOTMUERTOS`, `TOTHERIDOS`), ya que la variable `CAUSAACCI`"
   ]
  }
 ],
 "metadata": {
  "kernelspec": {
   "display_name": "Python 3 (ipykernel)",
   "language": "python",
   "name": "python3"
  },
  "language_info": {
   "codemirror_mode": {
    "name": "ipython",
    "version": 3
   },
   "file_extension": ".py",
   "mimetype": "text/x-python",
   "name": "python",
   "nbconvert_exporter": "python",
   "pygments_lexer": "ipython3",
   "version": "3.11.7"
  }
 },
 "nbformat": 4,
 "nbformat_minor": 5
}
